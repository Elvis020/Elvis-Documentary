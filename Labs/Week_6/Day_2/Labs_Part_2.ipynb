{
 "cells": [
  {
   "cell_type": "markdown",
   "metadata": {},
   "source": [
    "# Data Types"
   ]
  },
  {
   "cell_type": "markdown",
   "metadata": {},
   "source": [
    "## Question 5"
   ]
  },
  {
   "cell_type": "code",
   "execution_count": 1,
   "metadata": {},
   "outputs": [],
   "source": [
    "#  5 - integer\n",
    "# 5000 * 50000000 - integer\n",
    "# 'j' - string\n",
    "# 1j - complex \n",
    "# (1,) - tuple\n",
    "# [1] - list\n",
    "# None - NoneType"
   ]
  },
  {
   "cell_type": "markdown",
   "metadata": {},
   "source": [
    "---"
   ]
  },
  {
   "cell_type": "code",
   "execution_count": 2,
   "metadata": {},
   "outputs": [
    {
     "name": "stdout",
     "output_type": "stream",
     "text": [
      "<class 'int'>\n",
      "<class 'int'>\n",
      "<class 'str'>\n",
      "<class 'complex'>\n",
      "<class 'tuple'>\n",
      "<class 'list'>\n",
      "<class 'NoneType'>\n"
     ]
    }
   ],
   "source": [
    "print(type(5))\n",
    "print(type(5000 * 50000000))\n",
    "print(type('j'))\n",
    "print(type(1j))\n",
    "print(type((1,)))\n",
    "print(type([1]))\n",
    "print(type(None))"
   ]
  },
  {
   "cell_type": "markdown",
   "metadata": {},
   "source": [
    "---"
   ]
  },
  {
   "cell_type": "markdown",
   "metadata": {},
   "source": [
    "## Question 6"
   ]
  },
  {
   "cell_type": "code",
   "execution_count": 3,
   "metadata": {},
   "outputs": [
    {
     "data": {
      "text/plain": [
       "5.551115123125786e-17"
      ]
     },
     "execution_count": 3,
     "metadata": {},
     "output_type": "execute_result"
    }
   ],
   "source": [
    "5.551115123125787e-17"
   ]
  },
  {
   "cell_type": "code",
   "execution_count": 14,
   "metadata": {},
   "outputs": [
    {
     "data": {
      "text/plain": [
       "5.551115123125783e-17"
      ]
     },
     "execution_count": 14,
     "metadata": {},
     "output_type": "execute_result"
    }
   ],
   "source": [
    "# 0.1 + 0.1 + 0.1\n",
    "0.1 + 0.1 + 0.1 - 0.3\n",
    "# 0.1+0.1+0.1 - 0.3"
   ]
  },
  {
   "cell_type": "code",
   "execution_count": 14,
   "metadata": {},
   "outputs": [
    {
     "data": {
      "text/plain": [
       "Decimal('0.333333333333333314829616256247390992939472198486328125')"
      ]
     },
     "execution_count": 14,
     "metadata": {},
     "output_type": "execute_result"
    }
   ],
   "source": [
    "from decimal import *\n",
    "Decimal(\".1\") + Decimal(\".1\") + Decimal(\".1\")\n",
    "Decimal(1/3)"
   ]
  },
  {
   "cell_type": "markdown",
   "metadata": {},
   "source": [
    "---"
   ]
  },
  {
   "cell_type": "markdown",
   "metadata": {},
   "source": [
    "## Question 7"
   ]
  },
  {
   "cell_type": "code",
   "execution_count": 44,
   "metadata": {},
   "outputs": [
    {
     "name": "stdout",
     "output_type": "stream",
     "text": [
      "[1, 1, 2, 3, 5, 8, 13, 21, 34, 55, 89, 144, 233, 377, 610, 987, 1597, 2584, 4181, 6765]\n",
      "20\n"
     ]
    }
   ],
   "source": [
    "counter = 0\n",
    "emp_list = []\n",
    "prev_num = 0\n",
    "next_num = 1\n",
    "while counter < 20:\n",
    "    tracking_sum = prev_num + next_num\n",
    "    emp_list.append(tracking_sum)\n",
    "    if(counter < 1):\n",
    "        prev_num = 0\n",
    "        next_num = 1\n",
    "    else:\n",
    "        prev_num = next_num\n",
    "        next_num = tracking_sum\n",
    "    counter += 1\n",
    "print(emp_list)\n",
    "print(len(emp_list))"
   ]
  },
  {
   "cell_type": "markdown",
   "metadata": {},
   "source": [
    "---"
   ]
  },
  {
   "cell_type": "markdown",
   "metadata": {},
   "source": [
    "## Question 8"
   ]
  },
  {
   "cell_type": "code",
   "execution_count": 17,
   "metadata": {},
   "outputs": [
    {
     "name": "stdout",
     "output_type": "stream",
     "text": [
      "E:s:l:v:i:s\n"
     ]
    }
   ],
   "source": [
    "# name = \"Eslvis\"\n",
    "# print(name[-1])\n",
    "# for i in name:\n",
    "#     if(i == name[-1]):\n",
    "#         print(i)\n",
    "#         break;\n",
    "#     print(i,end=\":\")\n",
    "\n",
    "    \n",
    "    \n",
    "# Alternative\n",
    "# name = \"Eslvis\"\n",
    "# counter = 0\n",
    "# for i in name:\n",
    "#     if(counter == len(name)-1):\n",
    "#         print(i)\n",
    "#         break\n",
    "#     else:\n",
    "#         counter +=1\n",
    "#         print(i,end=\":\")"
   ]
  },
  {
   "cell_type": "markdown",
   "metadata": {},
   "source": [
    "---"
   ]
  },
  {
   "cell_type": "markdown",
   "metadata": {},
   "source": [
    "## Question 9"
   ]
  },
  {
   "cell_type": "code",
   "execution_count": 18,
   "metadata": {},
   "outputs": [
    {
     "name": "stdout",
     "output_type": "stream",
     "text": [
      "Please enter 10 numbers between 1 and 8: 1\n",
      "Please enter 10 numbers between 1 and 8: 2\n",
      "Please enter 10 numbers between 1 and 8: 3\n",
      "Please enter 10 numbers between 1 and 8: 4\n",
      "Please enter 10 numbers between 1 and 8: 5\n",
      "Please enter 10 numbers between 1 and 8: 6\n",
      "Please enter 10 numbers between 1 and 8: 7\n",
      "Please enter 10 numbers between 1 and 8: 8\n",
      "Please enter 10 numbers between 1 and 8: 1\n",
      "Please enter 10 numbers between 1 and 8: 2\n",
      "Please enter 10 numbers between 1 and 8: 3\n",
      "Please enter 10 numbers between 1 and 8: 4\n",
      "Please enter 10 numbers between 1 and 8: 5\n",
      "[2, 3, 4, 5, 6, 7, 2, 3, 4, 5]\n",
      "2\n"
     ]
    }
   ],
   "source": [
    "list1 = []\n",
    "while len(list1) < 10:\n",
    "    number = int(input(\"Please enter 10 numbers between 1 and 8: \"))\n",
    "    if(number<8 and number >1):\n",
    "        list1.append(number)\n",
    "print(list1)\n",
    "print(list1.count(5))"
   ]
  },
  {
   "cell_type": "markdown",
   "metadata": {},
   "source": [
    "---"
   ]
  },
  {
   "cell_type": "markdown",
   "metadata": {},
   "source": [
    "## Question 10"
   ]
  },
  {
   "cell_type": "code",
   "execution_count": 19,
   "metadata": {},
   "outputs": [
    {
     "data": {
      "text/plain": [
       "[1, 9, 25]"
      ]
     },
     "execution_count": 19,
     "metadata": {},
     "output_type": "execute_result"
    }
   ],
   "source": [
    "lists = [1, 4, 9, 16, 25]\n",
    "# [x for x in lists if x%2 != 0 ]\n",
    "[x for x in lists if x%2 != 0]"
   ]
  },
  {
   "cell_type": "code",
   "execution_count": null,
   "metadata": {},
   "outputs": [],
   "source": []
  }
 ],
 "metadata": {
  "kernelspec": {
   "display_name": "Python 3",
   "language": "python",
   "name": "python3"
  },
  "language_info": {
   "codemirror_mode": {
    "name": "ipython",
    "version": 3
   },
   "file_extension": ".py",
   "mimetype": "text/x-python",
   "name": "python",
   "nbconvert_exporter": "python",
   "pygments_lexer": "ipython3",
   "version": "3.8.5"
  }
 },
 "nbformat": 4,
 "nbformat_minor": 4
}
