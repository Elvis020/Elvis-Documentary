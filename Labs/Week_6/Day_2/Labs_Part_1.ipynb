{
 "cells": [
  {
   "cell_type": "markdown",
   "metadata": {},
   "source": [
    "# Introducing Python"
   ]
  },
  {
   "cell_type": "markdown",
   "metadata": {},
   "source": [
    "## Question 1"
   ]
  },
  {
   "cell_type": "code",
   "execution_count": 6,
   "metadata": {},
   "outputs": [
    {
     "name": "stdout",
     "output_type": "stream",
     "text": [
      "Hello world!\n"
     ]
    }
   ],
   "source": [
    "# print(\"Hello World!\")\n",
    "world = \"world\"\n",
    "print(\"Hello \" + world + \"!\")"
   ]
  },
  {
   "cell_type": "markdown",
   "metadata": {},
   "source": [
    "---"
   ]
  },
  {
   "cell_type": "markdown",
   "metadata": {},
   "source": [
    "## Question 2"
   ]
  },
  {
   "cell_type": "code",
   "execution_count": 9,
   "metadata": {},
   "outputs": [
    {
     "name": "stdout",
     "output_type": "stream",
     "text": [
      "Please enter a number: 3\n",
      "3 is odd.\n"
     ]
    }
   ],
   "source": [
    "number = int(input(\"Please enter a number: \"))\n",
    "if (number % 2 == 0):\n",
    "    print(str(number) + \" is even.\")\n",
    "else:\n",
    "    print(str(number) + \" is odd.\")"
   ]
  },
  {
   "cell_type": "markdown",
   "metadata": {},
   "source": [
    "---"
   ]
  },
  {
   "cell_type": "markdown",
   "metadata": {},
   "source": [
    "## Question 3"
   ]
  },
  {
   "cell_type": "code",
   "execution_count": 11,
   "metadata": {},
   "outputs": [
    {
     "name": "stdout",
     "output_type": "stream",
     "text": [
      "Elvis\n",
      "333\n",
      "My name is Elvis and I am 333 years old.\n"
     ]
    }
   ],
   "source": [
    "my_name = \"Elvis\"\n",
    "my_age = 333;\n",
    "print(my_name)\n",
    "print(my_age)\n",
    "print(\"My name is {} and I am {} years old.\".format(my_name,my_age))"
   ]
  },
  {
   "cell_type": "markdown",
   "metadata": {},
   "source": [
    "---"
   ]
  },
  {
   "cell_type": "markdown",
   "metadata": {},
   "source": [
    "## Question 4"
   ]
  },
  {
   "cell_type": "code",
   "execution_count": 28,
   "metadata": {},
   "outputs": [
    {
     "name": "stdout",
     "output_type": "stream",
     "text": [
      "121\n",
      "Please enter a random number: 32\n",
      "Sorry, wrong number. Please try again!\n",
      "Please enter a random number: 121\n",
      "Yayyy!,you got it right\n"
     ]
    }
   ],
   "source": [
    "import random\n",
    "req_random_num = random.randint(0,1000)\n",
    "print(req_random_num)\n",
    "while True:\n",
    "    randy_num = int(input(\"Please enter a random number: \"))\n",
    "    if randy_num != req_random_num:\n",
    "        print(\"Sorry, wrong number. Please try again!\")\n",
    "        randy_num\n",
    "    else:\n",
    "        print(\"Yayyy!,you got it right\")\n",
    "        break;"
   ]
  },
  {
   "cell_type": "markdown",
   "metadata": {},
   "source": [
    "---"
   ]
  },
  {
   "cell_type": "markdown",
   "metadata": {},
   "source": [
    "## Question 5"
   ]
  },
  {
   "cell_type": "code",
   "execution_count": 34,
   "metadata": {},
   "outputs": [
    {
     "name": "stdout",
     "output_type": "stream",
     "text": [
      "[4, 16]\n",
      "[4, 16]\n"
     ]
    }
   ],
   "source": [
    "list_1 = [1, 4, 9, 16, 25]\n",
    "tuple_1 = (1, 4, 9, 16, 25)\n",
    "even_from_list = list(filter(lambda x: x%2 ==0,list_1))\n",
    "even_from_tuple = list(filter(lambda x: x%2 ==0,tuple_1))\n",
    "print(even_from_list)\n",
    "print(even_from_tuple)"
   ]
  },
  {
   "cell_type": "markdown",
   "metadata": {},
   "source": [
    "---"
   ]
  },
  {
   "cell_type": "markdown",
   "metadata": {},
   "source": [
    "## Question 6"
   ]
  },
  {
   "cell_type": "code",
   "execution_count": 50,
   "metadata": {},
   "outputs": [
    {
     "name": "stdout",
     "output_type": "stream",
     "text": [
      "210 years\n",
      "2520 months\n",
      "76650 days\n",
      "1839600 hours\n"
     ]
    }
   ],
   "source": [
    "test_num = 20\n",
    "summy = 0\n",
    "counter = 0\n",
    "while counter < test_num:\n",
    "    for i in range(test_num+1):\n",
    "        summy += i\n",
    "        counter += 1\n",
    "print(\"{} years\".format(summy))\n",
    "print(\"{} months\".format(summy * 12))\n",
    "print(\"{} days\".format(summy * 365))\n",
    "print(\"{} hours\".format(summy * 8760))\n",
    "    "
   ]
  }
 ],
 "metadata": {
  "kernelspec": {
   "display_name": "Python 3",
   "language": "python",
   "name": "python3"
  },
  "language_info": {
   "codemirror_mode": {
    "name": "ipython",
    "version": 3
   },
   "file_extension": ".py",
   "mimetype": "text/x-python",
   "name": "python",
   "nbconvert_exporter": "python",
   "pygments_lexer": "ipython3",
   "version": "3.8.5"
  }
 },
 "nbformat": 4,
 "nbformat_minor": 4
}
