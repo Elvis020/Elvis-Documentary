{
 "cells": [
  {
   "cell_type": "code",
   "execution_count": 4,
   "metadata": {},
   "outputs": [
    {
     "name": "stdout",
     "output_type": "stream",
     "text": [
      "0 : Hello from Pyhthon!!\n",
      "1 : Working with files is easy\n",
      "2 : It is cool"
     ]
    }
   ],
   "source": [
    "f = open('python1.txt', \"r\")\n",
    "i = 0\n",
    "for l in f:\n",
    "    print(i,\":\",l,end='')\n",
    "    i += 1\n",
    "f.close()"
   ]
  },
  {
   "cell_type": "code",
   "execution_count": 7,
   "metadata": {},
   "outputs": [
    {
     "data": {
      "text/plain": [
       "['HELLO FROM PYHTHON!!\\n', 'WORKING WITH FILES IS EASY\\n', 'IT IS COOL']"
      ]
     },
     "execution_count": 7,
     "metadata": {},
     "output_type": "execute_result"
    }
   ],
   "source": [
    "f = open(\"python1.txt\", \"r\")\n",
    "l = [line.upper() for line in f]\n",
    "f.close()\n",
    "print(l)"
   ]
  },
  {
   "cell_type": "code",
   "execution_count": 8,
   "metadata": {},
   "outputs": [
    {
     "name": "stdout",
     "output_type": "stream",
     "text": [
      "Hello from Pyhthon!!\n",
      "\n",
      "Working with files is easy\n",
      "\n",
      "It is cool\n",
      "This is the second file for the demo\n",
      "\n",
      "And i am writing it again\n",
      "\n",
      "Lets do this\n",
      "\n"
     ]
    }
   ],
   "source": [
    "# Using the file input modules\n",
    "import fileinput\n",
    "\n",
    "with fileinput.input(files=('python1.txt','python2.txt')) as f:\n",
    "    for line in f:\n",
    "        print(line)"
   ]
  },
  {
   "cell_type": "code",
   "execution_count": 14,
   "metadata": {},
   "outputs": [
    {
     "name": "stdout",
     "output_type": "stream",
     "text": [
      "<bound method FileInput.filename of <fileinput.FileInput object at 0x00000167AAB77520>>\n",
      "True\n",
      "1\n",
      "<bound method FileInput.filelineno of <fileinput.FileInput object at 0x00000167AAB77520>>\n",
      "And i am writing it again\n",
      "\n",
      "Lets do this\n",
      "\n"
     ]
    }
   ],
   "source": [
    "# Using the file input 2 modules\n",
    "with fileinput.input(files=('python2.txt')) as f:\n",
    "    line = f.readline()\n",
    "    print(f.filename)\n",
    "    print(f.isfirstline())\n",
    "    print(f.lineno())\n",
    "    print(f.filelineno)\n",
    "    for l in f:\n",
    "        print(l)"
   ]
  },
  {
   "cell_type": "code",
   "execution_count": 18,
   "metadata": {},
   "outputs": [
    {
     "name": "stdout",
     "output_type": "stream",
     "text": [
      "Hello World!\n",
      "C:\\Users\\TURNTABL\\AppData\\Local\\Temp\n"
     ]
    }
   ],
   "source": [
    "# Temporary files\n",
    "import tempfile\n",
    "fp = tempfile.TemporaryFile()\n",
    "fp.write(b'Hello World!')\n",
    "fp.seek(0)\n",
    "print(fp.readline().decode())\n",
    "print(tempfile.gettempdir())"
   ]
  },
  {
   "cell_type": "code",
   "execution_count": 21,
   "metadata": {},
   "outputs": [
    {
     "ename": "NameError",
     "evalue": "name 'Path' is not defined",
     "output_type": "error",
     "traceback": [
      "\u001b[1;31m---------------------------------------------------------------------------\u001b[0m",
      "\u001b[1;31mNameError\u001b[0m                                 Traceback (most recent call last)",
      "\u001b[1;32m<ipython-input-21-f51edcce14de>\u001b[0m in \u001b[0;36m<module>\u001b[1;34m\u001b[0m\n\u001b[0;32m      1\u001b[0m \u001b[1;31m# Listing files in a directory\u001b[0m\u001b[1;33m\u001b[0m\u001b[1;33m\u001b[0m\u001b[1;33m\u001b[0m\u001b[0m\n\u001b[1;32m----> 2\u001b[1;33m \u001b[0mp\u001b[0m \u001b[1;33m=\u001b[0m \u001b[0mPath\u001b[0m\u001b[1;33m(\u001b[0m\u001b[1;34m'.'\u001b[0m\u001b[1;33m)\u001b[0m\u001b[1;33m\u001b[0m\u001b[1;33m\u001b[0m\u001b[0m\n\u001b[0m\u001b[0;32m      3\u001b[0m \u001b[0mlist\u001b[0m \u001b[1;33m=\u001b[0m \u001b[1;33m[\u001b[0m\u001b[0mx\u001b[0m \u001b[1;32mfor\u001b[0m \u001b[0mx\u001b[0m \u001b[1;32min\u001b[0m \u001b[0mp\u001b[0m\u001b[1;33m.\u001b[0m\u001b[0miterdir\u001b[0m\u001b[1;33m(\u001b[0m\u001b[1;33m)\u001b[0m \u001b[1;32mif\u001b[0m \u001b[0mx\u001b[0m\u001b[1;33m.\u001b[0m\u001b[0mis_file\u001b[0m\u001b[1;33m(\u001b[0m\u001b[1;33m)\u001b[0m\u001b[1;33m]\u001b[0m\u001b[1;33m\u001b[0m\u001b[1;33m\u001b[0m\u001b[0m\n",
      "\u001b[1;31mNameError\u001b[0m: name 'Path' is not defined"
     ]
    }
   ],
   "source": [
    "# Listing files in a directory----------> Its not working...tbc\n",
    "p = Path('.')\n",
    "list = [x for x in p.iterdir() if x.is_file()]"
   ]
  },
  {
   "cell_type": "code",
   "execution_count": 24,
   "metadata": {},
   "outputs": [
    {
     "name": "stdout",
     "output_type": "stream",
     "text": [
      "Creating CSV file\n"
     ]
    }
   ],
   "source": [
    "# Working with csv files\n",
    "import csv\n",
    "print('Creating CSV file')\n",
    "with open('sample.csv','w',newline='') as csvfile:\n",
    "    writer = csv.writer(csvfile,\n",
    "                       delimiter=',',\n",
    "                       quotechar='|',\n",
    "                       quoting=csv.QUOTE_MINIMAL)\n",
    "    writer.writerow(['Hello'] * 5 + ['World'])\n",
    "    writer.writerow(['Spam','Lovely Spam','Wonderful Spam'])"
   ]
  },
  {
   "cell_type": "code",
   "execution_count": null,
   "metadata": {},
   "outputs": [],
   "source": []
  }
 ],
 "metadata": {
  "kernelspec": {
   "display_name": "Python 3",
   "language": "python",
   "name": "python3"
  },
  "language_info": {
   "codemirror_mode": {
    "name": "ipython",
    "version": 3
   },
   "file_extension": ".py",
   "mimetype": "text/x-python",
   "name": "python",
   "nbconvert_exporter": "python",
   "pygments_lexer": "ipython3",
   "version": "3.8.5"
  }
 },
 "nbformat": 4,
 "nbformat_minor": 4
}
