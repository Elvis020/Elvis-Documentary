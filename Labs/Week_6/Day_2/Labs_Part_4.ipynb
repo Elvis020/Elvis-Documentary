{
 "cells": [
  {
   "cell_type": "markdown",
   "metadata": {},
   "source": [
    "## Question 1"
   ]
  },
  {
   "cell_type": "code",
   "execution_count": 3,
   "metadata": {
    "scrolled": false
   },
   "outputs": [
    {
     "name": "stdout",
     "output_type": "stream",
     "text": [
      "Please enter what you want:  rt\n",
      "Please enter what you want:  er\n",
      "Please enter what you want:  te\n",
      "Please enter what you want:  er\n",
      "Please enter what you want:  tert\n",
      "Please enter what you want:  er\n",
      "Please enter what you want:  er\n",
      "Please enter what you want:  ert\n",
      "Please enter what you want:  er\n",
      "Please enter what you want:  ert\n",
      "Please enter what you want:  ert\n",
      "Please enter what you want:  er\n",
      "Please enter what you want:  er\n",
      "Please enter what you want:  er\n",
      "Please enter what you want:  tertert\n",
      "Please enter what you want:  hgr\n",
      "Please enter what you want:  g\n",
      "Please enter what you want:  g\n",
      "Please enter what you want:  dfh\n",
      "Please enter what you want:  end\n",
      "sfslkjfaskjlkfsjadkjlskdajlkjljjlkjasdfljasdkfasdfsadfsadfasdfsadfsdafwe;lwerwerwerwerwerrsdfrterteertertererertererterterererterterthgrggdfh"
     ]
    }
   ],
   "source": [
    "file_object = open('sample.txt', 'a')\n",
    "while True:\n",
    "    user_input = input(\"Please enter what you want:  \")\n",
    "    if(user_input != 'end'):\n",
    "        file_object.write(user_input)\n",
    "    else:\n",
    "        file_object.close()\n",
    "        break;\n",
    "f = open('sample.txt', \"r\")\n",
    "for l in f:\n",
    "    print(l,end='')\n",
    "f.close()\n"
   ]
  },
  {
   "cell_type": "markdown",
   "metadata": {},
   "source": [
    "---"
   ]
  },
  {
   "cell_type": "markdown",
   "metadata": {},
   "source": [
    "## Question 2"
   ]
  },
  {
   "cell_type": "code",
   "execution_count": 8,
   "metadata": {},
   "outputs": [],
   "source": [
    "file_in = open('sample.txt')\n",
    "file_out = open('out.txt','a')\n",
    "for w in file_in.readlines():\n",
    "    file_out.write(w)\n",
    "file_in.close()\n",
    "file_out.close()"
   ]
  },
  {
   "cell_type": "markdown",
   "metadata": {},
   "source": [
    "---"
   ]
  },
  {
   "cell_type": "code",
   "execution_count": null,
   "metadata": {},
   "outputs": [],
   "source": []
  }
 ],
 "metadata": {
  "kernelspec": {
   "display_name": "Python 3",
   "language": "python",
   "name": "python3"
  },
  "language_info": {
   "codemirror_mode": {
    "name": "ipython",
    "version": 3
   },
   "file_extension": ".py",
   "mimetype": "text/x-python",
   "name": "python",
   "nbconvert_exporter": "python",
   "pygments_lexer": "ipython3",
   "version": "3.8.5"
  }
 },
 "nbformat": 4,
 "nbformat_minor": 4
}
