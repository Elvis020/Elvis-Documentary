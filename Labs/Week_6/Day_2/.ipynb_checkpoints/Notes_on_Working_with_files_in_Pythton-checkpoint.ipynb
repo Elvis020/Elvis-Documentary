{
 "cells": [
  {
   "cell_type": "code",
   "execution_count": 4,
   "metadata": {},
   "outputs": [
    {
     "name": "stdout",
     "output_type": "stream",
     "text": [
      "0 : Hello from Pyhthon!!\n",
      "1 : Working with files is easy\n",
      "2 : It is cool"
     ]
    }
   ],
   "source": [
    "f = open('python1.txt', \"r\")\n",
    "i = 0\n",
    "for l in f:\n",
    "    print(i,\":\",l,end='')\n",
    "    i += 1\n",
    "f.close()"
   ]
  },
  {
   "cell_type": "code",
   "execution_count": null,
   "metadata": {},
   "outputs": [],
   "source": []
  }
 ],
 "metadata": {
  "kernelspec": {
   "display_name": "Python 3",
   "language": "python",
   "name": "python3"
  },
  "language_info": {
   "codemirror_mode": {
    "name": "ipython",
    "version": 3
   },
   "file_extension": ".py",
   "mimetype": "text/x-python",
   "name": "python",
   "nbconvert_exporter": "python",
   "pygments_lexer": "ipython3",
   "version": "3.8.5"
  }
 },
 "nbformat": 4,
 "nbformat_minor": 4
}
