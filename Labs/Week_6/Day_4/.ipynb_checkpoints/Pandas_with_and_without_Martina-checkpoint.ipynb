{
 "cells": [
  {
   "cell_type": "code",
   "execution_count": 31,
   "metadata": {},
   "outputs": [],
   "source": [
    "import pandas as pd\n",
    "import numpy as np\n",
    "fruits = ['apples','oranges','cherry','pear']\n",
    "fruits2 = ['raspberries','oranges','cherry','pear']\n",
    "s1 = pd.Series([20,33,52,10],index=fruits)\n",
    "s2 = pd.Series([17,13,31,32],index=fruits2)"
   ]
  },
  {
   "cell_type": "code",
   "execution_count": 28,
   "metadata": {},
   "outputs": [
    {
     "name": "stdout",
     "output_type": "stream",
     "text": [
      "apples          NaN\n",
      "cherry         83.0\n",
      "oranges        46.0\n",
      "pear           42.0\n",
      "raspberries     NaN\n",
      "dtype: float64\n",
      "apples         20.0\n",
      "cherry         83.0\n",
      "oranges        46.0\n",
      "pear           42.0\n",
      "raspberries    17.0\n",
      "dtype: float64\n"
     ]
    }
   ],
   "source": [
    "s1\n",
    "s2\n",
    "summy = s1 + s2\n",
    "print(summy)\n",
    "s3 = s1.add(s2,fill_value=0)\n",
    "print(s3)\n",
    "# print(sum(summy))\n",
    "# print(summy.index)\n",
    "# print(summy.values)"
   ]
  },
  {
   "cell_type": "code",
   "execution_count": 29,
   "metadata": {},
   "outputs": [
    {
     "name": "stdout",
     "output_type": "stream",
     "text": [
      "20\n"
     ]
    }
   ],
   "source": [
    "print(s1['apples'])"
   ]
  },
  {
   "cell_type": "code",
   "execution_count": 32,
   "metadata": {},
   "outputs": [
    {
     "name": "stdout",
     "output_type": "stream",
     "text": [
      "apples         0.912945\n",
      "cherry         0.968364\n",
      "oranges        0.901788\n",
      "pear          -0.916522\n",
      "raspberries   -0.961397\n",
      "dtype: float64\n"
     ]
    }
   ],
   "source": [
    "# Using the apply()\n",
    "print(s3.apply(np.sin))"
   ]
  },
  {
   "cell_type": "code",
   "execution_count": 35,
   "metadata": {},
   "outputs": [
    {
     "name": "stdout",
     "output_type": "stream",
     "text": [
      "apples         40.0\n",
      "cherry         83.0\n",
      "oranges        46.0\n",
      "pear           42.0\n",
      "raspberries    37.0\n",
      "dtype: float64\n"
     ]
    }
   ],
   "source": [
    "# Using a lambda\n",
    "print(s3.apply(lambda x: x if x> 30 else x+20))"
   ]
  },
  {
   "cell_type": "code",
   "execution_count": 38,
   "metadata": {},
   "outputs": [
    {
     "data": {
      "text/plain": [
       "<AxesSubplot:>"
      ]
     },
     "execution_count": 38,
     "metadata": {},
     "output_type": "execute_result"
    },
    {
     "data": {
      "image/png": "[encoded data removed]",
      "text/plain": [
       "<Figure size 432x288 with 1 Axes>"
      ]
     },
     "metadata": {
      "needs_background": "light"
     },
     "output_type": "display_data"
    }
   ],
   "source": [
    "# Plotting a series\n",
    "data = [100,120,140,180,200,210,214]\n",
    "s = pd.Series(data, index=range(len(data)))\n",
    "s.plot()"
   ]
  },
  {
   "cell_type": "markdown",
   "metadata": {},
   "source": [
    "---"
   ]
  },
  {
   "cell_type": "code",
   "execution_count": 51,
   "metadata": {},
   "outputs": [
    {
     "data": {
      "text/html": [
       "<div>\n",
       "<style scoped>\n",
       "    .dataframe tbody tr th:only-of-type {\n",
       "        vertical-align: middle;\n",
       "    }\n",
       "\n",
       "    .dataframe tbody tr th {\n",
       "        vertical-align: top;\n",
       "    }\n",
       "\n",
       "    .dataframe thead th {\n",
       "        text-align: right;\n",
       "    }\n",
       "</style>\n",
       "<table border=\"1\" class=\"dataframe\">\n",
       "  <thead>\n",
       "    <tr style=\"text-align: right;\">\n",
       "      <th></th>\n",
       "      <th>name</th>\n",
       "      <th>population</th>\n",
       "    </tr>\n",
       "  </thead>\n",
       "  <tbody>\n",
       "    <tr>\n",
       "      <th>England</th>\n",
       "      <td>London</td>\n",
       "      <td>8615246</td>\n",
       "    </tr>\n",
       "    <tr>\n",
       "      <th>England</th>\n",
       "      <td>Berlin</td>\n",
       "      <td>3562166</td>\n",
       "    </tr>\n",
       "  </tbody>\n",
       "</table>\n",
       "</div>"
      ],
      "text/plain": [
       "           name  population\n",
       "England  London     8615246\n",
       "England  Berlin     3562166"
      ]
     },
     "execution_count": 51,
     "metadata": {},
     "output_type": "execute_result"
    }
   ],
   "source": [
    "cities = {\n",
    "    'name':['London','Berlin','Madrid','Rome','Paris','Vienna'],\n",
    "    'population':[8615246,3562166,3165235,2874038,2273305,1805681],\n",
    "    'country':['England','Germany','Spain','Italy','France','Austria']\n",
    "}\n",
    "newpd = pd.DataFrame(cities,columns=['name','population'],index=cities['country'])\n",
    "newpd.loc['England']"
   ]
  },
  {
   "cell_type": "code",
   "execution_count": null,
   "metadata": {},
   "outputs": [],
   "source": []
  },
  {
   "cell_type": "code",
   "execution_count": null,
   "metadata": {},
   "outputs": [],
   "source": []
  }
 ],
 "metadata": {
  "kernelspec": {
   "display_name": "Python 3",
   "language": "python",
   "name": "python3"
  },
  "language_info": {
   "codemirror_mode": {
    "name": "ipython",
    "version": 3
   },
   "file_extension": ".py",
   "mimetype": "text/x-python",
   "name": "python",
   "nbconvert_exporter": "python",
   "pygments_lexer": "ipython3",
   "version": "3.8.5"
  }
 },
 "nbformat": 4,
 "nbformat_minor": 4
}
