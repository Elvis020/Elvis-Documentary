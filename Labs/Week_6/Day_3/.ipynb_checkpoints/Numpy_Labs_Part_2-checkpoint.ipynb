{
 "cells": [
  {
   "cell_type": "code",
   "execution_count": 1,
   "metadata": {},
   "outputs": [],
   "source": [
    "import numpy as np\n",
    "import csv"
   ]
  },
  {
   "cell_type": "code",
   "execution_count": 34,
   "metadata": {},
   "outputs": [],
   "source": [
    "with open('AAPL-2017.csv',newline='') as f:\n",
    "    reader = csv.DictReader(f)\n",
    "    people = np.empty((0,6))\n",
    "    for row in reader:\n",
    "        oneRow = np.array([[row['Open'],row['High'],row['Low'],row['Close'],row['Adj Close'],row['Volume']]])\n",
    "        people = np.append(people,oneRow,axis=0)"
   ]
  },
  {
   "cell_type": "markdown",
   "metadata": {},
   "source": [
    "---"
   ]
  },
  {
   "cell_type": "code",
   "execution_count": 23,
   "metadata": {},
   "outputs": [
    {
     "name": "stdout",
     "output_type": "stream",
     "text": [
      "2\n"
     ]
    }
   ],
   "source": [
    "# Checking the dimension of the array\n",
    "print(np.ndim(people))"
   ]
  },
  {
   "cell_type": "code",
   "execution_count": 24,
   "metadata": {},
   "outputs": [
    {
     "name": "stdout",
     "output_type": "stream",
     "text": [
      "(251, 6)\n"
     ]
    }
   ],
   "source": [
    "# CHecking the shape of the array\n",
    "print(np.shape(people))"
   ]
  },
  {
   "cell_type": "code",
   "execution_count": 25,
   "metadata": {
    "collapsed": true
   },
   "outputs": [
    {
     "name": "stdout",
     "output_type": "stream",
     "text": [
      "[['115.800003' '116.330002' '114.760002' '116.150002' '113.013916'\n",
      "  '28781900']\n",
      " ['115.849998' '116.510002' '115.750000' '116.019997' '112.887413'\n",
      "  '21118100']\n",
      " ['115.919998' '116.860001' '115.809998' '116.610001' '113.461502'\n",
      "  '22193600']\n",
      " ...\n",
      " ['170.100006' '170.779999' '169.710007' '170.600006' '168.663101'\n",
      "  '21498200']\n",
      " ['171.000000' '171.850006' '170.479996' '171.080002' '169.137650'\n",
      "  '16480200']\n",
      " ['170.520004' '170.589996' '169.220001' '169.229996' '167.308640'\n",
      "  '25884400']]\n"
     ]
    }
   ],
   "source": [
    "# Printing the output\n",
    "print(people)"
   ]
  },
  {
   "cell_type": "markdown",
   "metadata": {},
   "source": [
    "---"
   ]
  },
  {
   "cell_type": "code",
   "execution_count": 28,
   "metadata": {},
   "outputs": [
    {
     "data": {
      "text/plain": [
       "(11,)"
      ]
     },
     "execution_count": 28,
     "metadata": {},
     "output_type": "execute_result"
    }
   ],
   "source": [
    "a5 = np.arange(0.5,5.8,0.5,int)\n",
    "a5\n",
    "np.shape(a5)"
   ]
  },
  {
   "cell_type": "code",
   "execution_count": 33,
   "metadata": {},
   "outputs": [
    {
     "data": {
      "text/plain": [
       "(1, 4)"
      ]
     },
     "execution_count": 33,
     "metadata": {},
     "output_type": "execute_result"
    }
   ],
   "source": [
    "# The rest of the labs shows why shape shows nothing if the array is 1D.\n",
    "# And also to convert (2,) to a 2D, just add extra []\n",
    "# eg\n",
    "a1 = np.array([1,2,3,4])\n",
    "np.shape(a1) #(4,)\n",
    "a2 = np.array([[1,2,3,4]])\n",
    "np.shape(a2) #(1,4)\n",
    "\n",
    "# Also to check the dimension of an array, use the ndim method."
   ]
  },
  {
   "cell_type": "code",
   "execution_count": null,
   "metadata": {},
   "outputs": [],
   "source": []
  }
 ],
 "metadata": {
  "kernelspec": {
   "display_name": "Python 3",
   "language": "python",
   "name": "python3"
  },
  "language_info": {
   "codemirror_mode": {
    "name": "ipython",
    "version": 3
   },
   "file_extension": ".py",
   "mimetype": "text/x-python",
   "name": "python",
   "nbconvert_exporter": "python",
   "pygments_lexer": "ipython3",
   "version": "3.8.5"
  }
 },
 "nbformat": 4,
 "nbformat_minor": 4
}
