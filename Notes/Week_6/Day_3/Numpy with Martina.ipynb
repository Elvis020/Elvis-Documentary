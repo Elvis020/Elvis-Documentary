{
 "cells": [
  {
   "cell_type": "code",
   "execution_count": 27,
   "metadata": {
    "collapsed": true
   },
   "outputs": [
    {
     "name": "stdout",
     "output_type": "stream",
     "text": [
      "(3, 3)\n",
      "[[1, 2, 3], [1, 2, 4], [3, 4, 5], [1, 2, 1], [1, 2, 6], [3, 1, 5]]\n",
      "[[12  9 28]\n",
      " [15 10 33]\n",
      " [22 19 52]]\n"
     ]
    }
   ],
   "source": [
    "import numpy as np\n",
    "my_list = [[1,2,3],[1,2,4],[3,4,5]]\n",
    "my_list2 = [[1,2,1],[1,2,6],[3,1,5]]\n",
    "a = np.array(my_list)\n",
    "a\n",
    "# print(a.dtype)\n",
    "# print(np.ndim(a))\n",
    "print(np.shape(a))\n",
    "# type(a)\n",
    "newwy = my_list + my_list2\n",
    "print(newwy)\n",
    "print(np.dot(my_list,my_list2))"
   ]
  },
  {
   "cell_type": "code",
   "execution_count": 19,
   "metadata": {},
   "outputs": [
    {
     "data": {
      "text/plain": [
       "array([0, 0, 0, 0])"
      ]
     },
     "execution_count": 19,
     "metadata": {},
     "output_type": "execute_result"
    }
   ],
   "source": [
    "x = np.array([1,2,3,4])\n",
    "xe = np.zeros_like(x)\n",
    "xe"
   ]
  },
  {
   "cell_type": "code",
   "execution_count": 25,
   "metadata": {},
   "outputs": [
    {
     "data": {
      "text/plain": [
       "array([[1., 0., 0., 0.],\n",
       "       [0., 1., 0., 0.],\n",
       "       [0., 0., 1., 0.],\n",
       "       [0., 0., 0., 1.]])"
      ]
     },
     "execution_count": 25,
     "metadata": {},
     "output_type": "execute_result"
    }
   ],
   "source": [
    "xi = np.identity(4)\n",
    "xeye = np.eye(4)\n",
    "# xi\n",
    "xeye"
   ]
  },
  {
   "cell_type": "code",
   "execution_count": null,
   "metadata": {},
   "outputs": [],
   "source": []
  }
 ],
 "metadata": {
  "kernelspec": {
   "display_name": "Python 3",
   "language": "python",
   "name": "python3"
  },
  "language_info": {
   "codemirror_mode": {
    "name": "ipython",
    "version": 3
   },
   "file_extension": ".py",
   "mimetype": "text/x-python",
   "name": "python",
   "nbconvert_exporter": "python",
   "pygments_lexer": "ipython3",
   "version": "3.8.5"
  }
 },
 "nbformat": 4,
 "nbformat_minor": 4
}
