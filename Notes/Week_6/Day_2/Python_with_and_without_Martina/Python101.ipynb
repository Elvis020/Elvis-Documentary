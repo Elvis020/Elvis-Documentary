{
 "cells": [
  {
   "cell_type": "markdown",
   "metadata": {},
   "source": [
    "## Intro to Python"
   ]
  },
  {
   "cell_type": "code",
   "execution_count": 3,
   "metadata": {},
   "outputs": [
    {
     "name": "stdout",
     "output_type": "stream",
     "text": [
      "Hello World\n",
      "Please enter your name: Elvis\n",
      "Hello, Elvis\n"
     ]
    }
   ],
   "source": [
    "print(\"Hello World\")\n",
    "name = input(\"Please enter your name: \")\n",
    "print(\"Hello, \"+ name)"
   ]
  },
  {
   "cell_type": "markdown",
   "metadata": {},
   "source": [
    "---"
   ]
  },
  {
   "cell_type": "code",
   "execution_count": 9,
   "metadata": {},
   "outputs": [
    {
     "name": "stdout",
     "output_type": "stream",
     "text": [
      "Enter a number: -21\n",
      "-21 is -ve\n",
      "Bye\n"
     ]
    }
   ],
   "source": [
    "num = input(\"Enter a number: \")\n",
    "if int(num) < 0:\n",
    "    print(num + \" is -ve\")\n",
    "else:\n",
    "    print(num + \" is +ve\")\n",
    "    print(num + \" squared is \", int(num)*int(num))\n",
    "print('Bye')"
   ]
  },
  {
   "cell_type": "markdown",
   "metadata": {},
   "source": [
    "---"
   ]
  },
  {
   "cell_type": "code",
   "execution_count": 10,
   "metadata": {},
   "outputs": [
    {
     "name": "stdout",
     "output_type": "stream",
     "text": [
      "Block y\n",
      "Block x\n",
      "Block 0\n"
     ]
    }
   ],
   "source": [
    "x = True\n",
    "if x:\n",
    "    y = True\n",
    "    if y:\n",
    "        print(\"Block y\")\n",
    "    print(\"Block x\")\n",
    "print(\"Block 0\")"
   ]
  },
  {
   "cell_type": "markdown",
   "metadata": {},
   "source": [
    "---"
   ]
  },
  {
   "cell_type": "code",
   "execution_count": 19,
   "metadata": {},
   "outputs": [
    {
     "name": "stdout",
     "output_type": "stream",
     "text": [
      "Please enter a number: -09\n",
      "-9 is negative\n"
     ]
    }
   ],
   "source": [
    "num = int(input(\"Please enter a number: \"))\n",
    "if num < 0:\n",
    "    print(str(num) + \" is negative\")\n",
    "elif num > 0:\n",
    "    print(str(num) + \" is positive\")\n",
    "else:\n",
    "    print(str(num) + \" is zero\")"
   ]
  },
  {
   "cell_type": "markdown",
   "metadata": {},
   "source": [
    "---"
   ]
  },
  {
   "cell_type": "code",
   "execution_count": 23,
   "metadata": {},
   "outputs": [
    {
     "name": "stdout",
     "output_type": "stream",
     "text": [
      "Print numbers in a range\n",
      "2\n",
      "3\n",
      "4\n",
      "5\n",
      "6\n",
      "7\n",
      "8\n",
      "9\n"
     ]
    }
   ],
   "source": [
    "print(\"Print numbers in a range\")\n",
    "for i in range(2,10):\n",
    "    print(str(i))"
   ]
  },
  {
   "cell_type": "code",
   "execution_count": 24,
   "metadata": {},
   "outputs": [
    {
     "name": "stdout",
     "output_type": "stream",
     "text": [
      "Hello\n"
     ]
    }
   ],
   "source": [
    "x = 7\n",
    "if x < 6:\n",
    "    pass\n",
    "else:\n",
    "    print(\"Hello\")"
   ]
  },
  {
   "cell_type": "code",
   "execution_count": 27,
   "metadata": {},
   "outputs": [
    {
     "name": "stdout",
     "output_type": "stream",
     "text": [
      "HelloHelloHelloHelloHelloHelloHello\n"
     ]
    }
   ],
   "source": [
    "print(\"Hello\" * 7)"
   ]
  },
  {
   "cell_type": "markdown",
   "metadata": {},
   "source": [
    "---"
   ]
  },
  {
   "cell_type": "code",
   "execution_count": 41,
   "metadata": {},
   "outputs": [
    {
     "name": "stdout",
     "output_type": "stream",
     "text": [
      "1\n",
      "<class 'float'>\n",
      "1 1\n",
      "True\n"
     ]
    },
    {
     "data": {
      "text/plain": [
       "'Hello I Am Here'"
      ]
     },
     "execution_count": 41,
     "metadata": {},
     "output_type": "execute_result"
    }
   ],
   "source": [
    "\n",
    "print(50 ** 0)\n",
    "div1 = 3/2\n",
    "div2 = 3%2\n",
    "div3 = 3//2\n",
    "print(type(div1))\n",
    "print(div2,div3)\n",
    "print(div2 == div3)\n",
    "str1 = \"Hello i am here\"\n",
    "str1.title()"
   ]
  },
  {
   "cell_type": "markdown",
   "metadata": {},
   "source": [
    "---"
   ]
  },
  {
   "cell_type": "code",
   "execution_count": 51,
   "metadata": {},
   "outputs": [
    {
     "name": "stdout",
     "output_type": "stream",
     "text": [
      "4\n"
     ]
    },
    {
     "data": {
      "text/plain": [
       "2"
      ]
     },
     "execution_count": 51,
     "metadata": {},
     "output_type": "execute_result"
    }
   ],
   "source": [
    "list = [2,4,6]\n",
    "print(list[1])\n",
    "list.append(3)\n",
    "list.extend([4,7,90])   # Extend takes in an array\n",
    "list\n",
    "list.pop()\n",
    "list\n",
    "list.index(6)"
   ]
  },
  {
   "cell_type": "code",
   "execution_count": 55,
   "metadata": {},
   "outputs": [
    {
     "data": {
      "text/plain": [
       "[4, 6, 8, 5, 6, 9]"
      ]
     },
     "execution_count": 55,
     "metadata": {},
     "output_type": "execute_result"
    }
   ],
   "source": [
    "# List Comprehension\n",
    "# Format = [expression loop condition]\n",
    "list2 = [i+2 for i in list]\n",
    "list2"
   ]
  },
  {
   "cell_type": "code",
   "execution_count": 76,
   "metadata": {},
   "outputs": [
    {
     "name": "stdout",
     "output_type": "stream",
     "text": [
      "{'Spring': ('Mar', 'Apr', 'May'), 'Winter': ('Dec', 'Jan', 'Feb')}\n",
      "('Mar', 'Apr', 'May')\n",
      "Feb\n",
      "<class 'str'>\n",
      "Bye\n",
      "<class 'str'>\n"
     ]
    }
   ],
   "source": [
    "seasons = {'Spring':(\"Mar\",\"Apr\",\"May\"),'Winter':(\"Dec\",\"Jan\",\"Feb\")}\n",
    "tuppy = (\"Hello\",\"Bye\")\n",
    "seasons\n",
    "print(seasons)\n",
    "print(seasons[\"Spring\"])\n",
    "print(seasons[\"Winter\"][2])\n",
    "print(type(seasons[\"Winter\"][2]))\n",
    "print(tuppy[1])\n",
    "print(type(tuppy[1]))\n",
    "# Creating a tuple with one element\n",
    "tuppy1 = (3,)"
   ]
  },
  {
   "cell_type": "markdown",
   "metadata": {},
   "source": [
    "---"
   ]
  },
  {
   "cell_type": "code",
   "execution_count": 67,
   "metadata": {},
   "outputs": [
    {
     "data": {
      "text/plain": [
       "[\"Spring=('Mar', 'Apr', 'May')\", \"Winter=('Dec', 'Jan', 'Feb')\"]"
      ]
     },
     "execution_count": 67,
     "metadata": {},
     "output_type": "execute_result"
    }
   ],
   "source": [
    "# List  comprehension with dictionaries\n",
    "[\"%s=%s\" % (k,v) for k,v in seasons.items()]"
   ]
  },
  {
   "cell_type": "markdown",
   "metadata": {},
   "source": [
    "---"
   ]
  },
  {
   "cell_type": "code",
   "execution_count": 69,
   "metadata": {},
   "outputs": [
    {
     "name": "stdout",
     "output_type": "stream",
     "text": [
      "3 , 2\n",
      "------\n",
      "(3, 2)\n"
     ]
    }
   ],
   "source": [
    "# Functions\n",
    "def swap(a,b):\n",
    "    return b,a\n",
    "a=2\n",
    "b=3\n",
    "x,y = swap(a,b)\n",
    "print(x,\",\",y)\n",
    "print('------')\n",
    "z = swap(a,b)\n",
    "print(z)"
   ]
  },
  {
   "cell_type": "code",
   "execution_count": 104,
   "metadata": {},
   "outputs": [
    {
     "data": {
      "text/plain": [
       "[9, 10, 11, 12, 13, 14, 15, 16, 17, 18, 19]"
      ]
     },
     "execution_count": 104,
     "metadata": {},
     "output_type": "execute_result"
    }
   ],
   "source": [
    "def make_list(from_value,to_value=20,step=1):\n",
    "    return list(range(from_value,to_value,step))\n",
    "\n",
    "make_list(9)"
   ]
  },
  {
   "cell_type": "code",
   "execution_count": 103,
   "metadata": {},
   "outputs": [
    {
     "name": "stdout",
     "output_type": "stream",
     "text": [
      "[-4, -7]\n"
     ]
    }
   ],
   "source": [
    "# Lambda functions\n",
    "numbers = [1,2,3,-4,5,6,-7,8,9]\n",
    "filtered = list(filter(lambda x: x <0 , numbers))\n",
    "print(filtered)"
   ]
  },
  {
   "cell_type": "code",
   "execution_count": 84,
   "metadata": {},
   "outputs": [
    {
     "name": "stdout",
     "output_type": "stream",
     "text": [
      "Generated:  1\n",
      "Generated:  1\n",
      "Generated:  2\n",
      "Generated:  3\n",
      "Generated:  5\n",
      "Generated:  8\n",
      "Generated:  13\n",
      "Generated:  21\n",
      "Generated:  34\n",
      "Generated:  55\n",
      "Generated:  89\n"
     ]
    }
   ],
   "source": [
    "def fib_generator():\n",
    "    a = b = 1\n",
    "    while True:\n",
    "        yield a\n",
    "        a,b = b,a+b\n",
    "        \n",
    "        \n",
    "fib = fib_generator()\n",
    "\n",
    "for i in fib:\n",
    "    if i > 100:\n",
    "        break\n",
    "    else:\n",
    "        print(\"Generated: \", i)"
   ]
  },
  {
   "cell_type": "code",
   "execution_count": null,
   "metadata": {},
   "outputs": [],
   "source": []
  }
 ],
 "metadata": {
  "kernelspec": {
   "display_name": "Python 3",
   "language": "python",
   "name": "python3"
  },
  "language_info": {
   "codemirror_mode": {
    "name": "ipython",
    "version": 3
   },
   "file_extension": ".py",
   "mimetype": "text/x-python",
   "name": "python",
   "nbconvert_exporter": "python",
   "pygments_lexer": "ipython3",
   "version": "3.8.5"
  }
 },
 "nbformat": 4,
 "nbformat_minor": 4
}
